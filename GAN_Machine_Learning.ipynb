{
  "nbformat": 4,
  "nbformat_minor": 0,
  "metadata": {
    "colab": {
      "provenance": []
    },
    "kernelspec": {
      "name": "python3",
      "display_name": "Python 3"
    },
    "language_info": {
      "name": "python"
    }
  },
  "cells": [
    {
      "cell_type": "code",
      "execution_count": 1,
      "metadata": {
        "colab": {
          "base_uri": "https://localhost:8080/"
        },
        "id": "FGakbi0tRoMj",
        "outputId": "3ef05e09-ea1a-4b64-ec33-855cd22f9ab8"
      },
      "outputs": [
        {
          "output_type": "stream",
          "name": "stdout",
          "text": [
            "--2024-03-16 13:41:10--  http://www.cs.columbia.edu/CAVE/databases/pubfig/download/lfw_attributes.txt\n",
            "Resolving www.cs.columbia.edu (www.cs.columbia.edu)... 128.59.11.206\n",
            "Connecting to www.cs.columbia.edu (www.cs.columbia.edu)|128.59.11.206|:80... connected.\n",
            "HTTP request sent, awaiting response... 301 Moved Permanently\n",
            "Location: https://www.cs.columbia.edu/CAVE/databases/pubfig/download/lfw_attributes.txt [following]\n",
            "--2024-03-16 13:41:10--  https://www.cs.columbia.edu/CAVE/databases/pubfig/download/lfw_attributes.txt\n",
            "Connecting to www.cs.columbia.edu (www.cs.columbia.edu)|128.59.11.206|:443... connected.\n",
            "HTTP request sent, awaiting response... 200 OK\n",
            "Length: 14879205 (14M) [text/plain]\n",
            "Saving to: ‘lfw_attributes.txt.4’\n",
            "\n",
            "lfw_attributes.txt. 100%[===================>]  14.19M  48.2MB/s    in 0.3s    \n",
            "\n",
            "2024-03-16 13:41:10 (48.2 MB/s) - ‘lfw_attributes.txt.4’ saved [14879205/14879205]\n",
            "\n",
            "--2024-03-16 13:41:10--  http://vis-www.cs.umass.edu/lfw/lfw-funneled.tgz\n",
            "Resolving vis-www.cs.umass.edu (vis-www.cs.umass.edu)... 128.119.244.95\n",
            "Connecting to vis-www.cs.umass.edu (vis-www.cs.umass.edu)|128.119.244.95|:80... connected.\n",
            "HTTP request sent, awaiting response... 200 OK\n",
            "Length: 243346528 (232M) [application/x-gzip]\n",
            "Saving to: ‘lfw-funneled.tgz.4’\n",
            "\n",
            "lfw-funneled.tgz.4  100%[===================>] 232.07M  1.13MB/s    in 2m 24s  \n",
            "\n",
            "2024-03-16 13:43:34 (1.61 MB/s) - ‘lfw-funneled.tgz.4’ saved [243346528/243346528]\n",
            "\n"
          ]
        }
      ],
      "source": [
        "# training GANS is a slow process: be sure to switch to hardware accelerator GPU in 'change runtime type', and switch to high-RAM when prompted.\n",
        "# GAN procedure mostly taken from https://github.com/yandexdataschool/mlhep2018/\n",
        "\n",
        "# Download dataset\n",
        "!wget http://www.cs.columbia.edu/CAVE/databases/pubfig/download/lfw_attributes.txt\n",
        "!wget http://vis-www.cs.umass.edu/lfw/lfw-funneled.tgz # 233 MB!\n",
        "!tar -xf lfw-funneled.tgz"
      ]
    },
    {
      "cell_type": "code",
      "source": [
        "# Some data-handling tools and imports\n",
        "\n",
        "import numpy as np\n",
        "import os\n",
        "import subprocess\n",
        "from imageio import imread\n",
        "#from scipy.misc import imresize\n",
        "#!pip install pillow\n",
        "from PIL import Image\n",
        "import pandas as pd\n",
        "\n",
        "def fetch_lfw_dataset(attrs_name = \"lfw_attributes.txt\",\n",
        "                      images_name = \"lfw-deepfunneled\",\n",
        "                      raw_images_name = \"lfw\",\n",
        "                      use_raw=False,\n",
        "                      dx=80,dy=80,\n",
        "                      dimx=45,dimy=45):\n",
        "\n",
        "    # read attrs\n",
        "    # the header row begins with a #, which we want to ignore\n",
        "    with open(attrs_name) as attributes_file:\n",
        "        attributes_file.readline()\n",
        "        ugly_header = attributes_file.read(2)\n",
        "        assert ugly_header == \"#\\t\"\n",
        "        df_attrs = pd.read_csv(attributes_file, sep='\\t', skipinitialspace=True)\n",
        "        #print(df_attrs)\n",
        "        #print(df_attrs.columns.values.tolist())\n",
        "\n",
        "    #read photos\n",
        "    dirname = raw_images_name if use_raw else images_name\n",
        "    photo_ids = []\n",
        "    initial_depth = dirname.count(os.sep)\n",
        "    for dirpath, dirnames, filenames in os.walk(dirname):\n",
        "        if dirpath.count(os.sep) - initial_depth > 1:\n",
        "            continue\n",
        "        for fname in filenames:\n",
        "            if fname.endswith(\".jpg\"):\n",
        "                photo_id = fname[:-4].replace('_',' ').split()\n",
        "                person_id = ' '.join(photo_id[:-1])\n",
        "                photo_number = int(photo_id[-1])\n",
        "                fpath = os.path.join(dirpath, fname)\n",
        "                photo_ids.append({'person':person_id,'imagenum':photo_number,'photo_path':fpath})\n",
        "\n",
        "    photo_ids = pd.DataFrame(photo_ids)\n",
        "\n",
        "    # mass-merge\n",
        "    # (photos now have same order as attributes)\n",
        "    df = pd.merge(df_attrs,photo_ids,on=('person','imagenum'))\n",
        "\n",
        "    assert len(df)==len(df_attrs),\"lost some data when merging dataframes\"\n",
        "\n",
        "    #image preprocessing\n",
        "    all_photos =df['photo_path'].apply(imread)\\\n",
        "                                .apply(lambda img:img[dy:-dy,dx:-dx])\\\n",
        "                                .apply(lambda img: Image.fromarray(img).resize([dimx,dimy]) )\n",
        "\n",
        "    all_photos = np.stack(all_photos.values).astype('uint8')\n",
        "    all_attrs = df.drop([\"photo_path\",\"person\",\"imagenum\"], axis=1)\n",
        "\n",
        "    return all_photos, all_attrs"
      ],
      "metadata": {
        "id": "U0fElN-TRtd7"
      },
      "execution_count": 2,
      "outputs": []
    },
    {
      "cell_type": "code",
      "source": [
        "# Fetch the datasets of faces\n",
        "\n",
        "#%env CUDA_VISIBLE_DEVICES=0\n",
        "\n",
        "import matplotlib.pyplot as plt\n",
        "%matplotlib inline\n",
        "import numpy as np\n",
        "plt.rcParams.update({'axes.titlesize': 'small'})\n",
        "\n",
        "# a utility to load the dataset\n",
        "data, _ = fetch_lfw_dataset(dimx=36, dimy=36,\n",
        "                            images_name=\"lfw_funneled\",\n",
        "                            attrs_name=\"lfw_attributes.txt\",\n",
        "                            )\n",
        "\n",
        "# preprocess faces\n",
        "data = np.float32(data)/255.\n",
        "\n",
        "IMG_SHAPE = data.shape[1:]"
      ],
      "metadata": {
        "id": "YRRgjUYjRw4Z"
      },
      "execution_count": 3,
      "outputs": []
    },
    {
      "cell_type": "code",
      "source": [
        "import tensorflow as tf\n",
        "tf.compat.v1.disable_eager_execution()\n",
        "sess = tf.compat.v1.InteractiveSession()\n",
        "import keras\n",
        "from keras.models import Sequential\n",
        "from keras import layers as L\n",
        "from functools import partial"
      ],
      "metadata": {
        "id": "H2VDhSM0R0ub"
      },
      "execution_count": 14,
      "outputs": []
    },
    {
      "cell_type": "code",
      "source": [
        "# If we can't tell good faces from bad, we delegate it to yet another neural network!\n",
        "# That makes two of them:\n",
        "# Generator - takes random noise for inspiration and tries to generate a face sample.\n",
        "# Let's call him G(z), where z is a gaussian noize.\n",
        "# Discriminator - takes a face sample and tries to tell if it's real or fake.\n",
        "# Predicts the probability of input image being a real face\n",
        "# Let's call him D(x), x being an image.\n",
        "# D(x) is a prediction for real image and D(G(z)) is prediction for the face made by generator.\n",
        "#  Jensen-Shannon GAN should learn several times faster, but is more sensitive to mode collapse and vanishing gradients.\n",
        "#  Wasserstein GAN doesn't go well in company of batch normalization and ELU activation.\n",
        "\n",
        "GAN_TYPE = \"Jensen-Shannon\" # An Exponential Linear Unit activation function\n",
        "#GAN_TYPE = \"Wasserstein\"\n"
      ],
      "metadata": {
        "id": "qIAc5L-4R5bz"
      },
      "execution_count": 5,
      "outputs": []
    },
    {
      "cell_type": "code",
      "source": [
        "# Creating Generator\n",
        "CODE_SIZE = 256\n",
        "if GAN_TYPE == \"Wasserstein\":\n",
        "    generator_activation = partial(keras.activations.relu, alpha=0)\n",
        "elif GAN_TYPE == \"Jensen-Shannon\":\n",
        "    generator_activation = keras.activations.elu\n",
        "\n",
        "with tf.name_scope(\"Generator\"):\n",
        "# the goal is to get the image in the form of 36x36x3\n",
        "# Begginnings of generated image\n",
        "    # A few Deconv layers. Feel free to add more, but that will make learning even slower\n",
        "    generator = Sequential(name=\"Generator\")\n",
        "    generator.add(L.InputLayer([CODE_SIZE],name='noise')) # Input layer is the values that are passed to the generator for training\n",
        "    generator.add(L.Dense(10*8*8, activation=generator_activation)) # The dense layer converts the array of the input layer into a spacial area\n",
        "    # The activation function acts to introduce non-linearity to the neural network, allowing it to learn complex patterns in the data\n",
        "    generator.add(L.Reshape((8,8,10))) # The reshape layer takes the dense output and effectivly starts to convert it to an image of size 8x8x10\n",
        "    # Yet this image will not be the same size as our data which will be tended towards later\n",
        "\n",
        "    # Upsampling block 1 to create an image of 16x16x64 with 64 filters\n",
        "    generator.add(L.UpSampling2D()) # This performs upsampling of output from the previous layers which doubles the size of the output\n",
        "    generator.add(L.Conv2D(64,kernel_size=(5,5),activation=generator_activation)) # This condenses the previous information through some parametic transformations\n",
        "    # Using kernel_size=(5,5) in the Conv2D layer, the code effectively achieves the desired output shape of (None, 12, 12, 64) for this sampling block\n",
        "    generator.add(L.BatchNormalization(momentum=0.5)) # This helps to stabilize the training process and improve the quality of the generated samples by ensuring that the activations are normalized throughout the network\n",
        "    # The 'momentum' parameter controls the contribution of the previous running mean to the current running mean, a value of 0.5 can be used as a starting point\n",
        "\n",
        "    # Upsampling block 2 with 64 filters\n",
        "    generator.add(L.UpSampling2D())\n",
        "    generator.add(L.Conv2D(64,kernel_size=(5,5),activation=generator_activation))\n",
        "    generator.add(L.BatchNormalization(momentum=0.5))\n",
        "\n",
        "    # Upsampling block 3 with 32 filters\n",
        "    generator.add(L.UpSampling2D())\n",
        "    generator.add(L.Conv2D(32,kernel_size=(5,5),activation=generator_activation)) # Only with the first argument set to 32 we get the desired output shape\n",
        "    generator.add(L.BatchNormalization(momentum=0.5))\n",
        "\n",
        "    # Final convolutional layer to generate output image\n",
        "    generator.add(L.Conv2D(3, kernel_size=3, activation=generator_activation, padding='same')) # Convolution to generate image with 3 channels (RGB)\n",
        "    # Using padding='same' ensures that the output of the convolution operation maintains this spatial resolution\n",
        "\n",
        "    # Summary of generator\n",
        "    generator.summary()"
      ],
      "metadata": {
        "colab": {
          "base_uri": "https://localhost:8080/"
        },
        "id": "-L19aV-7R-iQ",
        "outputId": "4f7ee142-eb78-4c9b-e0bc-cade4d5ec575"
      },
      "execution_count": 6,
      "outputs": [
        {
          "output_type": "stream",
          "name": "stderr",
          "text": [
            "WARNING:tensorflow:From /usr/local/lib/python3.10/dist-packages/keras/src/layers/normalization/batch_normalization.py:883: _colocate_with (from tensorflow.python.framework.ops) is deprecated and will be removed in a future version.\n",
            "Instructions for updating:\n",
            "Colocations handled automatically by placer.\n"
          ]
        },
        {
          "output_type": "stream",
          "name": "stdout",
          "text": [
            "Model: \"Generator\"\n",
            "_________________________________________________________________\n",
            " Layer (type)                Output Shape              Param #   \n",
            "=================================================================\n",
            " dense (Dense)               (None, 640)               164480    \n",
            "                                                                 \n",
            " reshape (Reshape)           (None, 8, 8, 10)          0         \n",
            "                                                                 \n",
            " up_sampling2d (UpSampling2  (None, 16, 16, 10)        0         \n",
            " D)                                                              \n",
            "                                                                 \n",
            " conv2d (Conv2D)             (None, 12, 12, 64)        16064     \n",
            "                                                                 \n",
            " batch_normalization (Batch  (None, 12, 12, 64)        256       \n",
            " Normalization)                                                  \n",
            "                                                                 \n",
            " up_sampling2d_1 (UpSamplin  (None, 24, 24, 64)        0         \n",
            " g2D)                                                            \n",
            "                                                                 \n",
            " conv2d_1 (Conv2D)           (None, 20, 20, 64)        102464    \n",
            "                                                                 \n",
            " batch_normalization_1 (Bat  (None, 20, 20, 64)        256       \n",
            " chNormalization)                                                \n",
            "                                                                 \n",
            " up_sampling2d_2 (UpSamplin  (None, 40, 40, 64)        0         \n",
            " g2D)                                                            \n",
            "                                                                 \n",
            " conv2d_2 (Conv2D)           (None, 36, 36, 32)        51232     \n",
            "                                                                 \n",
            " batch_normalization_2 (Bat  (None, 36, 36, 32)        128       \n",
            " chNormalization)                                                \n",
            "                                                                 \n",
            " conv2d_3 (Conv2D)           (None, 36, 36, 3)         867       \n",
            "                                                                 \n",
            "=================================================================\n",
            "Total params: 335747 (1.28 MB)\n",
            "Trainable params: 335427 (1.28 MB)\n",
            "Non-trainable params: 320 (1.25 KB)\n",
            "_________________________________________________________________\n"
          ]
        }
      ]
    },
    {
      "cell_type": "code",
      "source": [
        "# Creating Descriminator\n",
        "from keras.layers import AveragePooling2D\n",
        "\n",
        "# It is your usual convolutional network with interlooping convolution and pooling layers:\n",
        "#  It takes a figure as input, and a simple output to separate \"Yes\" (figure is real) and \"No\" (figure is fake)\n",
        "# The network does not include dropout/batchnorm to avoid learning complications.\n",
        "# We also regularize the pre-output layer to prevent discriminator from being too certain.\n",
        "\n",
        "\n",
        "discriminator_activation = partial(keras.activations.relu, alpha=0.3)\n",
        "\n",
        "with tf.name_scope(\"Discriminator\"):\n",
        "    discriminator = Sequential(name=\"Discriminator\")\n",
        "    discriminator.add(L.InputLayer(IMG_SHAPE))\n",
        "\n",
        "\n",
        "    # First convulitoonal layer with 32 filters\n",
        "    discriminator.add(L.Conv2D(32,kernel_size=(3,3),activation=discriminator_activation))\n",
        "    discriminator.add(L.Dropout(0.4)) # This applies regularization to the descriminator preventing overfitting\n",
        "    # Preventing overfitting helps the model from relying too much on any particular set of features such that the network will be more general\n",
        "    # The parameter 0.4 specifies the dropout rate, which determines the fraction of input units to drop during training. In this case 40% of the input units will be randomly set to zero during each training iteration\n",
        "\n",
        "    # Second conv layer with 32 filters\n",
        "    discriminator.add(L.Conv2D(32,kernel_size=(3,3),activation=discriminator_activation))\n",
        "    discriminator.add(L.Dropout(0.4))\n",
        "\n",
        "    # Third conv layer with 32 filters\n",
        "    discriminator.add(L.Conv2D(32,kernel_size=(3,3),activation=discriminator_activation))\n",
        "    discriminator.add(L.Dropout(0.4))\n",
        "\n",
        "    # Downsampling layer with 64 filters\n",
        "    discriminator.add(AveragePooling2D(pool_size=(2, 2))) # reduce the spatial dimensions of the input feature maps\n",
        "    # The AveragePooling2D layer divides the input feature map into non-overlapping rectangular pooling regions and computes the average value within each region\n",
        "    # The output value at each spatial location in the pooled feature map represents the average value of the corresponding pooling region in the input feature map\n",
        "    discriminator.add(L.Conv2D(64,kernel_size=(5,5),activation=discriminator_activation))\n",
        "    discriminator.add(L.Dropout(0.4))\n",
        "\n",
        "\n",
        "    discriminator.add(L.Flatten()) # This is used to flatten the input data into a one-dimensional array\n",
        "    # Flattening is necessary before feeding the data into dense layers, as they require a one-dimensional input\n",
        "    discriminator.add(L.Dropout(0.4)) # Additional dropout regularization after flattening\n",
        "\n",
        "\n",
        "\n",
        "    if GAN_TYPE == \"Wasserstein\":\n",
        "        # Wasserstein discriminator values are unconstrained\n",
        "        discriminator.add(L.Dense(1))\n",
        "    elif GAN_TYPE == \"Jensen-Shannon\":\n",
        "        # Jensen-Shannon expects probabilities\n",
        "        discriminator.add(L.Dense(2, activation=tf.nn.log_softmax))\n",
        "discriminator.summary()"
      ],
      "metadata": {
        "colab": {
          "base_uri": "https://localhost:8080/"
        },
        "id": "MVOh8CpTSGgA",
        "outputId": "8f1d12a4-38a0-45d5-aaa9-249ddf5baad0"
      },
      "execution_count": 7,
      "outputs": [
        {
          "output_type": "stream",
          "name": "stdout",
          "text": [
            "Model: \"Discriminator\"\n",
            "_________________________________________________________________\n",
            " Layer (type)                Output Shape              Param #   \n",
            "=================================================================\n",
            " conv2d_4 (Conv2D)           (None, 34, 34, 32)        896       \n",
            "                                                                 \n",
            " dropout (Dropout)           (None, 34, 34, 32)        0         \n",
            "                                                                 \n",
            " conv2d_5 (Conv2D)           (None, 32, 32, 32)        9248      \n",
            "                                                                 \n",
            " dropout_1 (Dropout)         (None, 32, 32, 32)        0         \n",
            "                                                                 \n",
            " conv2d_6 (Conv2D)           (None, 30, 30, 32)        9248      \n",
            "                                                                 \n",
            " dropout_2 (Dropout)         (None, 30, 30, 32)        0         \n",
            "                                                                 \n",
            " average_pooling2d (Average  (None, 15, 15, 32)        0         \n",
            " Pooling2D)                                                      \n",
            "                                                                 \n",
            " conv2d_7 (Conv2D)           (None, 11, 11, 64)        51264     \n",
            "                                                                 \n",
            " dropout_3 (Dropout)         (None, 11, 11, 64)        0         \n",
            "                                                                 \n",
            " flatten (Flatten)           (None, 7744)              0         \n",
            "                                                                 \n",
            " dropout_4 (Dropout)         (None, 7744)              0         \n",
            "                                                                 \n",
            " dense_1 (Dense)             (None, 2)                 15490     \n",
            "                                                                 \n",
            "=================================================================\n",
            "Total params: 86146 (336.51 KB)\n",
            "Trainable params: 86146 (336.51 KB)\n",
            "Non-trainable params: 0 (0.00 Byte)\n",
            "_________________________________________________________________\n"
          ]
        }
      ]
    },
    {
      "cell_type": "code",
      "source": [
        "# Helper function to create a shuffling image stream for training\n",
        "\n",
        "def get_tf_dataset(dataset, batch_size):\n",
        "    \"\"\"\n",
        "    Produces an infinite stram of Tensorflow batches from a numpy dataset. The dataset is shuffled every epoch.\n",
        "    Args:\n",
        "       dataset: np.array[n_examples, ...]\n",
        "       batch_size: int, batch size of the results\n",
        "    Reuturns:\n",
        "       Tensor, containing the next batch\n",
        "    \"\"\"\n",
        "    if isinstance(dataset, tf.Tensor):\n",
        "        N_EXAMPLES = dataset.shape[0]\n",
        "    else:\n",
        "        N_EXAMPLES = dataset[0].shape[0]\n",
        "    shuffler = tf.data.experimental.shuffle_and_repeat(N_EXAMPLES)\n",
        "    dataset_tf = tf.data.Dataset.from_tensor_slices(dataset)\n",
        "    suffled_ds = shuffler(dataset_tf)\n",
        "    #return suffled_ds.batch(batch_size).prefetch(1).make_one_shot_iterator().get_next()\n",
        "    return tf.compat.v1.data.make_one_shot_iterator( suffled_ds.batch(batch_size) ).get_next()\n"
      ],
      "metadata": {
        "id": "LSzl8kfYSIjc"
      },
      "execution_count": 8,
      "outputs": []
    },
    {
      "cell_type": "code",
      "source": [
        "# Initialize training data setup.\n",
        "\n",
        "# Notes on strategy: we will train the two networks concurrently:\n",
        "#  - Train discriminator to better distinguish real data from current generator\n",
        "#  - Train generator to make discriminator think generator is real\n",
        "# Since discriminator is a differentiable neural network, we train both with gradient descent.\n",
        "# Training is done iteratively until discriminator is no longer able to find the difference (or until you run out of patience).\n",
        "# Tricks:\n",
        "# Train generator with adam to speed up training. Discriminator trains with SGD to avoid problems with momentum.\n",
        "# More: https://github.com/soumith/ganhacks\n",
        "\n",
        "# Obtain the training data faces stream for the discriminator\n",
        "train_batch_size = 100\n",
        "real_data = get_tf_dataset(data, train_batch_size)\n",
        "\n",
        "# Generate the noise data to be used in the generator training\n",
        "noise_batch_size = tf.compat.v1.placeholder(tf.int32, shape=[], name=\"noise_batch_size\")\n",
        "noise = tf.random.normal([noise_batch_size, CODE_SIZE], dtype=tf.float32, name=\"noise\")"
      ],
      "metadata": {
        "colab": {
          "base_uri": "https://localhost:8080/"
        },
        "id": "qNABpqEdSLWc",
        "outputId": "df881f06-50c4-4f64-92c3-2be4c18970f7"
      },
      "execution_count": 9,
      "outputs": [
        {
          "output_type": "stream",
          "name": "stderr",
          "text": [
            "WARNING:tensorflow:From <ipython-input-8-f2c47f3e446f>:16: shuffle_and_repeat (from tensorflow.python.data.experimental.ops.shuffle_ops) is deprecated and will be removed in a future version.\n",
            "Instructions for updating:\n",
            "Use `tf.data.Dataset.shuffle(buffer_size, seed)` followed by `tf.data.Dataset.repeat(count)`. Static tf.data optimizations will take care of using the fused implementation.\n"
          ]
        }
      ]
    },
    {
      "cell_type": "code",
      "source": [
        "with tf.GradientTape() as disc_tape, tf.GradientTape() as gen_tape:\n",
        "\n",
        "  # Run data and noise through the networks\n",
        "  discriminator_real = discriminator(real_data)\n",
        "  generated_data = generator(noise)\n",
        "  discriminator_generated = discriminator(generated_data)\n",
        "\n",
        "  # Configure custom learning and loss details, specific to the GAN strategy type\n",
        "\n",
        "  if GAN_TYPE == \"Wasserstein\":\n",
        "    with tf.name_scope(\"gradient_loss\"):\n",
        "        alpha = tf.random_uniform(shape=[tf.shape(generated_data)[0], 1, 1, 1], minval=0., maxval=1.)\n",
        "        interpolates = alpha*real_data + ((1.-alpha)*generated_data)\n",
        "        disc_interpolates = discriminator(interpolates)\n",
        "        gradients = tf.gradients(disc_interpolates, [interpolates])[0]\n",
        "        slopes = tf.norm(tf.reshape(gradients, [tf.shape(gradients)[0], -1]), axis=1)\n",
        "        gradient_penalty = tf.reduce_mean(tf.square(slopes - 1.))\n",
        "    EMD_loss = tf.reduce_mean(discriminator_generated) - tf.reduce_mean(discriminator_real)\n",
        "    LAMBDA = 10.\n",
        "    discriminator_loss = EMD_loss + LAMBDA*gradient_penalty\n",
        "    generator_loss = -tf.reduce_mean(discriminator_generated)\n",
        "\n",
        "  if GAN_TYPE == \"Jensen-Shannon\":\n",
        "    logp_real = discriminator(real_data)\n",
        "    logp_gen = discriminator(generated_data)\n",
        "    discriminator_loss = -tf.reduce_mean(logp_real[:,1] + logp_gen[:,0])\n",
        "    generator_loss = -tf.reduce_mean(logp_gen[:,1])\n",
        "\n",
        "# Get gradients\n",
        "disc_grads = disc_tape.gradient(discriminator_loss, discriminator.trainable_weights)\n",
        "gen_grads  = gen_tape.gradient(generator_loss, generator.trainable_weights)\n",
        "\n",
        "# Define the optimizer for both networks.\n",
        "# The values below are rough suggestions aimed at not exploding a discriminator\n",
        "# of complexity roughly equal to the complexity of the generator.\n",
        "disc_learning_rate = 1e-3\n",
        "\n",
        "if GAN_TYPE == \"Wasserstein\":\n",
        "    # https://arxiv.org/pdf/1704.00028.pdf\n",
        "    #disc_optimizer = tf.keras.optimizers.Adam(disc_learning_rate, beta1=0, beta2=0.9).minimize(\n",
        "    #      discriminator_loss, var_list=discriminator.trainable_weights)\n",
        "    disc_optimizer = tf.keras.optimizers.Adam(disc_learning_rate, beta1=0, beta2=0.9).apply_gradients(\n",
        "        zip(disc_grads, discriminator.trainable_weights))\n",
        "elif GAN_TYPE == \"Jensen-Shannon\":\n",
        "    #disc_optimizer = tf.keras.optimizers.SGD(disc_learning_rate).minimize(\n",
        "    #    discriminator_loss, var_list=discriminator.trainable_weights)\n",
        "    disc_optimizer = tf.keras.optimizers.SGD(disc_learning_rate).apply_gradients(\n",
        "        zip(disc_grads, discriminator.trainable_weights))\n",
        "\n",
        "\n",
        "if GAN_TYPE == \"Wasserstein\":\n",
        "    # https://arxiv.org/pdf/1704.00028.pdf\n",
        "    #gen_optimizer = tf.keras.optimizers.Adam(1e-4, beta1=0, beta2=0.9).minimize(\n",
        "    #    generator_loss, var_list=generator.trainable_weights)\n",
        "    gen_optimizer = tf.keras.optimizers.Adam(1e-4, beta1=0, beta2=0.9).apply_gradients(\n",
        "        zip(gen_grads, generator.trainable_weights))\n",
        "elif GAN_TYPE == \"Jensen-Shannon\":\n",
        "    #gen_optimizer = tf.keras.optimizers.Adam(1e-4).minimize(generator_loss, var_list=generator.trainable_weights)\n",
        "    gen_optimizer = tf.keras.optimizers.Adam(1e-4).apply_gradients(\n",
        "        zip(gen_grads, generator.trainable_weights))\n",
        "\n",
        "learning_summary = tf.compat.v1.summary.merge([\n",
        "    tf.compat.v1.summary.scalar(\"discriminator_loss\", discriminator_loss),\n",
        "    tf.compat.v1.summary.scalar(\"generator_loss\", generator_loss)\n",
        "])\n",
        "\n",
        "images_summary = tf.compat.v1.summary.image(\"generated_images\", generator(noise))\n"
      ],
      "metadata": {
        "id": "4xAiuj3QSNxE"
      },
      "execution_count": 10,
      "outputs": []
    },
    {
      "cell_type": "code",
      "source": [
        "# initialize all variables.\n",
        "sess.run(tf.compat.v1.global_variables_initializer())"
      ],
      "metadata": {
        "id": "Wc1S2nZhSPUZ"
      },
      "execution_count": 15,
      "outputs": []
    },
    {
      "cell_type": "code",
      "source": [
        "# Define helper functions to evaluate the Gen. and Disc. over some data batches\n",
        "\n",
        "def sample_noise_batch(bsize):\n",
        "    # Get a new batch of noise samples\n",
        "    return np.random.normal(size=(bsize, CODE_SIZE)).astype('float32')\n",
        "\n",
        "def sample_data_batch(bsize):\n",
        "    # Get a batch of real faces\n",
        "    idxs = np.random.choice(np.arange(data.shape[0]), size=bsize)\n",
        "    return data[idxs]\n",
        "\n",
        "def sample_images(nrow,ncol, sharp=False):\n",
        "    # Let the generator create some faces from noise and show them\n",
        "    images = generator.predict(sample_noise_batch(bsize=nrow*ncol))\n",
        "    if np.var(images) != 0:\n",
        "        images = images.clip(np.min(data),np.max(data))\n",
        "    for i in range(nrow*ncol):\n",
        "        plt.subplot(nrow,ncol,i+1)\n",
        "        if sharp:\n",
        "            plt.imshow(images[i].reshape(IMG_SHAPE), cmap=\"gray\", interpolation=\"none\")\n",
        "        else:\n",
        "            plt.imshow(images[i].reshape(IMG_SHAPE), cmap=\"gray\")\n",
        "        plt.axis('off')\n",
        "\n",
        "def sample_probas(bsize):\n",
        "    # Let the discriminator predict 'True' or 'False' label for some real and some generated faces.\n",
        "    #  (note that this is actually a continuous number - a sort of 'probability')\n",
        "    fig, ax = plt.subplots()\n",
        "    ax.set_title('Generated vs real data')\n",
        "    ax.hist(discriminator.predict(sample_data_batch(bsize)).ravel(),\n",
        "             label='D(x)', alpha=0.5, density=True)\n",
        "    ax.hist(discriminator.predict(generator.predict(sample_noise_batch(bsize))).ravel(),\n",
        "             label='D(G(z))', alpha=0.5,  density=True)\n",
        "    ax.legend(loc='best')\n",
        "    return fig, ax"
      ],
      "metadata": {
        "id": "0VkS0F6-SRKX"
      },
      "execution_count": 16,
      "outputs": []
    },
    {
      "cell_type": "code",
      "source": [
        "# Actual training\n",
        "\n",
        "from IPython import display\n",
        "import os\n",
        "\n",
        "LOGDIR = \"./\"\n",
        "MODEL_NAME = \"faces_GAN_%s_noreg_v1\" % GAN_TYPE\n",
        "MODEL_DIR = \"./\"\n",
        "os.makedirs(MODEL_DIR, exist_ok=True)\n",
        "MODEL_WEIGHTS_FILE =  os.path.join(MODEL_DIR, (\"%s.ckpt\" % MODEL_NAME))\n",
        "VALIDATION_INTERVAL = 50 # time between intermediate visual updates.\n",
        "TOTAL_ITERATIONS = int(5e4) # was 5e4 but colab takes too long\n",
        "# Number of discriminator training iterations per generator iteration\n",
        "# In our tests for discriminator of roughly as complexity as discriminator\n",
        "# 5 worked for both Wasserstein and Jensen–Shannon.\n",
        "DISCRIMINATOR_ITERATIONS = 5\n",
        "\n",
        "# Save the intermediate weights, such that if our training gets interrupted,\n",
        "#  We don't have to restart from scratch.\n",
        "train_writer = tf.compat.v1.summary.FileWriter(os.path.join(LOGDIR, MODEL_NAME, \"train\"))\n",
        "train_writer.add_graph(tf.compat.v1.get_default_graph())\n",
        "weights_saver = tf.compat.v1.train.Saver()\n",
        "\n",
        "if(os.path.exists(MODEL_WEIGHTS_FILE)) :\n",
        "  try:\n",
        "    weights_saver.restore(sess, MODEL_WEIGHTS_FILE)\n",
        "  except (tf.errors.NotFoundError, tf.errors.InvalidArgumentError):\n",
        "    print(\"Can't restore parameters: no file with weights\")\n",
        "\n",
        "\n",
        "for epoch in range(TOTAL_ITERATIONS):\n",
        "    for i in range(DISCRIMINATOR_ITERATIONS):\n",
        "        # Train the discriminator\n",
        "        sess.run(disc_optimizer, {noise_batch_size: train_batch_size})\n",
        "    # Train the generator\n",
        "    summary, _ = sess.run([learning_summary, gen_optimizer], {noise_batch_size: train_batch_size})\n",
        "\n",
        "    # write the updated weights\n",
        "    train_writer.add_summary(summary, epoch)\n",
        "\n",
        "    if epoch % VALIDATION_INTERVAL == 0:\n",
        "        # display intermediate status and some generated faces.\n",
        "        display.clear_output(wait=False)\n",
        "        weights_saver.save(sess, MODEL_WEIGHTS_FILE)\n",
        "        epoch_images_summary = sess.run(images_summary, {noise_batch_size: 3})\n",
        "        train_writer.add_summary(epoch_images_summary, epoch)\n",
        "        sample_images(2, 3, True)\n",
        "        fig, ax = sample_probas(1000)\n",
        "        ax.set_title((\"Epoch %i; \" % epoch) + ax.get_title())\n",
        "        plt.show()"
      ],
      "metadata": {
        "colab": {
          "base_uri": "https://localhost:8080/",
          "height": 815
        },
        "id": "dY3FzzgKSTKw",
        "outputId": "5d2c65d7-6542-4e3b-9d0c-5fd42632bbea"
      },
      "execution_count": null,
      "outputs": [
        {
          "output_type": "display_data",
          "data": {
            "text/plain": [
              "<Figure size 640x480 with 6 Axes>"
            ],
            "image/png": "[encoded data removed]"
          },
          "metadata": {}
        },
        {
          "output_type": "display_data",
          "data": {
            "text/plain": [
              "<Figure size 640x480 with 1 Axes>"
            ],
            "image/png": "[encoded data removed]"
          },
          "metadata": {}
        }
      ]
    },
    {
      "cell_type": "code",
      "source": [
        "## Show us some generated faces after our training!\n",
        "plt.figure(figsize=[16, 24])\n",
        "sample_images(16, 8);"
      ],
      "metadata": {
        "id": "Vh2v8aEBSVcY"
      },
      "execution_count": null,
      "outputs": []
    }
  ]
}